{
 "cells": [
  {
   "cell_type": "code",
   "execution_count": 7,
   "id": "dd2667ee-a4dd-47df-bb65-603bfb3e8a88",
   "metadata": {},
   "outputs": [
    {
     "name": "stdout",
     "output_type": "stream",
     "text": [
      "Number of lines: 99968\n",
      "Number of words: 795227\n",
      "Occurrences of 'apostle': 47\n",
      "Most common word: 'the' (appears 64309 times)\n"
     ]
    }
   ],
   "source": [
    "import urllib.request\n",
    "\n",
    "def download_text(url):\n",
    "    response = urllib.request.urlopen(url)\n",
    "    return response.read().decode('utf-8')\n",
    "\n",
    "def count_lines(text):\n",
    "    return len(text.splitlines())\n",
    "\n",
    "def extract_words(text):\n",
    "    words = []\n",
    "    current = \"\"\n",
    "    for char in text:\n",
    "        if char.isalpha():\n",
    "            current += char\n",
    "        else:\n",
    "            if current:\n",
    "                words.append(current.lower())\n",
    "                current = \"\"\n",
    "    if current:\n",
    "        words.append(current.lower())\n",
    "    return words\n",
    "\n",
    "def count_word_occurrence(word_list, target_word):\n",
    "    count = 0\n",
    "    for word in word_list:\n",
    "        if word == target_word:\n",
    "            count += 1\n",
    "    return count\n",
    "\n",
    "def find_most_common_word(word_list):\n",
    "    word_counts = {}\n",
    "    for word in word_list:\n",
    "        if word in word_counts:\n",
    "            word_counts[word] += 1\n",
    "        else:\n",
    "            word_counts[word] = 1\n",
    "\n",
    "    most_common = \"\"\n",
    "    highest = 0\n",
    "    for word, count in word_counts.items():\n",
    "        if count > highest:\n",
    "            most_common = word\n",
    "            highest = count\n",
    "    return most_common, highest\n",
    "\n",
    "# Main Execution\n",
    "pg10 = download_text(\"https://www.gutenberg.org/cache/epub/10/pg10.txt\")\n",
    "\n",
    "line_count = count_lines(pg10)\n",
    "word_list = extract_words(pg10)\n",
    "word_count = len(word_list)\n",
    "apostle_count = count_word_occurrence(word_list, \"apostle\")\n",
    "most_common, most_common_count = find_most_common_word(word_list)\n",
    "\n",
    "# Output\n",
    "print(\"Number of lines:\", line_count)\n",
    "print(\"Number of words:\", word_count)\n",
    "print(\"Occurrences of 'apostle':\", apostle_count)\n",
    "print(f\"Most common word: '{most_common}' (appears {most_common_count} times)\")"
   ]
  }
 ],
 "metadata": {
  "kernelspec": {
   "display_name": "Python [conda env:base] *",
   "language": "python",
   "name": "conda-base-py"
  },
  "language_info": {
   "codemirror_mode": {
    "name": "ipython",
    "version": 3
   },
   "file_extension": ".py",
   "mimetype": "text/x-python",
   "name": "python",
   "nbconvert_exporter": "python",
   "pygments_lexer": "ipython3",
   "version": "3.12.7"
  }
 },
 "nbformat": 4,
 "nbformat_minor": 5
}
